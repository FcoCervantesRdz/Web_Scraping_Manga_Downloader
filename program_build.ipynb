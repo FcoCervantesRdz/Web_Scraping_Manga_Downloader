{
 "cells": [
  {
   "attachments": {},
   "cell_type": "markdown",
   "metadata": {},
   "source": [
    "# Manga PDF Downloader\n",
    "## 01 - Introduction\n",
    "There are free options to read manga online, but in some of them, we aren't able to download a PDF version of it to read it later. This is the case of manganelo.tv (https://ww5.manganelo.tv/), where we can just read manga in the page from images loading in the web page.\n",
    "\n",
    "This is an example of links for diferent mangas:\n",
    "* \"*Beyond The Sky*\": https://ww5.manganelo.tv/manga/manga-ne990439.<br>\n",
    "* \"*My Wife Is A Fox Spirit*\": https://ww5.manganelo.tv/manga/manga-hr984452.<br>\n",
    "* \"*Fight Class 3*\": https://ww5.manganelo.tv/manga/manga-cd980038.<br>\n",
    "\n",
    "In this URL structure, we are able to notice that \"*ne990439*\", \"*hr984452*\" & \"*cd980038*\" represents the manga's unique codes.\n",
    "\n",
    "Inside every manga's page, we have acces to the list of chapters and their information, as we can see in the next screeshot from the \"Beyond The Sky\"'s page: <br><br>\n",
    "![Manga SS](./imgs/manga_ss.PNG)\n",
    "\n",
    "And, inside a chapter's page we can see the images: <br><br>\n",
    "![Chapter SS](./imgs/chapter_ss.PNG)\n",
    "\n",
    "## 02 - Objective\n",
    "* Build a program to download an specific number of chapters for an asked manga.\n",
    "  * The program will asks for the unique code that appears in the url's manga.\n",
    "  * It has to shows the list of chapters to ask for the searched chapters.\n",
    "  * For the UI, we will work on streamlit app\n",
    "  \n",
    "## 03 - Building the program's structure\n",
    "First, we import the needed libraries and create basic needed functions"
   ]
  },
  {
   "cell_type": "code",
   "execution_count": 1,
   "metadata": {},
   "outputs": [],
   "source": [
    "import requests\n",
    "import shutil\n",
    "import os\n",
    "from PIL import Image\n",
    "from bs4 import BeautifulSoup\n",
    "\n",
    "def int_to_str(num:int, num_digits:int):\n",
    "    \"\"\"This function return a string number from an integer number\n",
    "    and a specific number of digits. For example:\n",
    "    >>> int_to_str(12,4)\n",
    "    '0012'\n",
    "    >>> int_to_str(1,5)\n",
    "    '00001'\"\"\"\n",
    "    if type(num) != int:\n",
    "        raise TypeError(\"num has to be an integer\")\n",
    "    elif type(num_digits) != int:\n",
    "        raise TypeError(\"num_digits has to be an integer\")\n",
    "    elif len(str(num)) > num_digits:\n",
    "        raise ValueError(\"num_digits has to be bigger or equal than the number of digits of num\")\n",
    "    elif len(str(num)) == num_digits:\n",
    "        return str(num)\n",
    "    else:\n",
    "        return '0'*(num_digits-len(str(num))) + str(num)"
   ]
  },
  {
   "attachments": {},
   "cell_type": "markdown",
   "metadata": {},
   "source": [
    "Before getting the images, we ask for the manga and chapters:"
   ]
  },
  {
   "cell_type": "code",
   "execution_count": 2,
   "metadata": {},
   "outputs": [],
   "source": [
    "# Get the Manga URL\n",
    "main_page = 'https://ww5.manganelo.tv/'\n",
    "manga_code = 'ne990439' # Manga code example\n",
    "manga_url = main_page + 'manga/manga-'+manga_code\n",
    "\n",
    "# Get the chapters\n",
    "manga_r = requests.get(manga_url)\n",
    "if manga_r.status_code == 200: # If our requests was succesful\n",
    "    manga_html = BeautifulSoup(manga_r.content, 'html.parser')\n",
    "    chapters_elements = manga_html.find_all('a', class_='chapter-name text-nowrap')\n",
    "    chapters_names = [element.text for element in chapters_elements]\n",
    "    chapters_names.reverse() # List of chapers names ordered\n",
    "    selected_chapters_names = ['Chapter 17', 'Chapter 24','Chapter 27','Chapter 30'] #Example of selected chapters\n",
    "    # When the code moves to streamlit, this will be given by the user.\n",
    "    selected_chapters_elements = [element for element in chapters_elements if element.text in selected_chapters_names]\n",
    "else:\n",
    "    print(\"Error when connecting to manga page.\")\n",
    "    selected_chapters_elements = []"
   ]
  },
  {
   "attachments": {},
   "cell_type": "markdown",
   "metadata": {},
   "source": [
    "Get the images downloaded in '*temp_imgs*', convert them to PDF and clean '*temp_imgs*'"
   ]
  },
  {
   "cell_type": "code",
   "execution_count": 3,
   "metadata": {},
   "outputs": [
    {
     "name": "stdout",
     "output_type": "stream",
     "text": [
      "Chapter \"Chapter 30\" saved.\n",
      "Chapter \"Chapter 27\" saved.\n",
      "Chapter \"Chapter 24\" saved.\n",
      "Chapter \"Chapter 17\" saved.\n"
     ]
    }
   ],
   "source": [
    "# The 'a' HTML elements contains the URL for the specific character\n",
    "for chapter_element in selected_chapters_elements:\n",
    "    chapter_url = main_page + chapter_element['href']\n",
    "    chapter_r = requests.get(chapter_url) #Get into chapter's page\n",
    "    if chapter_r.status_code == 200:\n",
    "        chapter_html = BeautifulSoup(chapter_r.content, 'html.parser')\n",
    "        \n",
    "        # Cleaning 'temp_imgs'\n",
    "        try:\n",
    "            shutil.rmtree('./temp_imgs')\n",
    "            os.mkdir('./temp_imgs/')\n",
    "        except:\n",
    "            continue\n",
    "\n",
    "        #Get all images in chapter\n",
    "        imgs_elements = chapter_html.find_all('img', class_='img-loading') \n",
    "        num_pages = len(imgs_elements)\n",
    "        num_digits = len(str(num_pages))\n",
    "        counter = 0\n",
    "        imgs_paths = []\n",
    "        for img_element in imgs_elements: # For each img element\n",
    "            img_url = img_element['data-src'] # Get url \n",
    "            img_ext = img_url.split('.')[-1]\n",
    "            img_r = requests.get(img_url) \n",
    "            if img_r.status_code == 200:\n",
    "                img_content = img_r.content # Get img\n",
    "                path = './temp_imgs/'+int_to_str(counter, num_digits)+'.'+img_ext\n",
    "                imgs_paths.append(path)\n",
    "                with open(path, 'wb') as handler:\n",
    "                    handler.write(img_content)\n",
    "                counter += 1\n",
    "\n",
    "        # Creating PDF\n",
    "        imgs_list = [Image.open(path).convert('RGB') for path in imgs_paths[1:]]\n",
    "        pdf_path = './mangas/'+manga_code+'-'+chapter_element.text+'.pdf'\n",
    "        if os.path.isfile(pdf_path):\n",
    "            os.remove(pdf_path)\n",
    "        Image.open(imgs_paths[0]).convert('RGB').save(pdf_path, save_all=True, append_images=imgs_list)\n",
    "\n",
    "        # Cleaning 'temp_imgs'\n",
    "        try:\n",
    "            shutil.rmtree('./temp_imgs')\n",
    "            os.mkdir('./temp_imgs/')\n",
    "        except:\n",
    "            continue\n",
    "\n",
    "    print('Chapter \"'+chapter_element.text+'\" saved.')"
   ]
  }
 ],
 "metadata": {
  "kernelspec": {
   "display_name": "Python 3",
   "language": "python",
   "name": "python3"
  },
  "language_info": {
   "codemirror_mode": {
    "name": "ipython",
    "version": 3
   },
   "file_extension": ".py",
   "mimetype": "text/x-python",
   "name": "python",
   "nbconvert_exporter": "python",
   "pygments_lexer": "ipython3",
   "version": "3.11.1"
  },
  "orig_nbformat": 4,
  "vscode": {
   "interpreter": {
    "hash": "63d577cc3694dcdce7cf68da42a6869d4a4a66019f769fa2d20e7a8a2178c1b4"
   }
  }
 },
 "nbformat": 4,
 "nbformat_minor": 2
}
